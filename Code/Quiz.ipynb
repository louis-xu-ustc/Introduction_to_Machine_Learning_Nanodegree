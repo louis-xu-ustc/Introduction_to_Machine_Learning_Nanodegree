{
 "cells": [
  {
   "cell_type": "code",
   "execution_count": 3,
   "metadata": {},
   "outputs": [
    {
     "name": "stdout",
     "output_type": "stream",
     "text": [
      "3.88\n",
      "10.692000000000002\n"
     ]
    }
   ],
   "source": [
    "import math\n",
    "\n",
    "def line(x):\n",
    "    return 1.2*x + 2\n",
    "\n",
    "\n",
    "if __name__ == \"__main__\":\n",
    "    points = [[2, -2], [5, 6], [-4, -4], [-7, 1], [8, 14]]\n",
    "    \n",
    "    mean_abs_err = 0\n",
    "    mean_sqr_err = 0\n",
    "    for point in points:\n",
    "        mean_abs_err += math.fabs(line(point[0]) - point[1])\n",
    "        mean_sqr_err += math.pow(line(point[0]) - point[1], 2)\n",
    "    \n",
    "print(mean_abs_err/len(points))\n",
    "print(mean_sqr_err/len(points)/2)"
   ]
  },
  {
   "cell_type": "code",
   "execution_count": null,
   "metadata": {},
   "outputs": [],
   "source": []
  }
 ],
 "metadata": {
  "kernelspec": {
   "display_name": "Python 3",
   "language": "python",
   "name": "python3"
  },
  "language_info": {
   "codemirror_mode": {
    "name": "ipython",
    "version": 3
   },
   "file_extension": ".py",
   "mimetype": "text/x-python",
   "name": "python",
   "nbconvert_exporter": "python",
   "pygments_lexer": "ipython3",
   "version": "3.7.7"
  }
 },
 "nbformat": 4,
 "nbformat_minor": 4
}
