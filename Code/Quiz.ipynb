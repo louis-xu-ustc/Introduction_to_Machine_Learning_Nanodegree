{
 "cells": [
  {
   "cell_type": "code",
   "execution_count": 1,
   "metadata": {},
   "outputs": [
    {
     "name": "stdout",
     "output_type": "stream",
     "text": [
      "3.88\n",
      "10.692000000000002\n"
     ]
    }
   ],
   "source": [
    "import math\n",
    "\n",
    "def line(x):\n",
    "    return 1.2*x + 2\n",
    "\n",
    "\n",
    "if __name__ == \"__main__\":\n",
    "    points = [[2, -2], [5, 6], [-4, -4], [-7, 1], [8, 14]]\n",
    "    \n",
    "    mean_abs_err = 0\n",
    "    mean_sqr_err = 0\n",
    "    for point in points:\n",
    "        mean_abs_err += math.fabs(line(point[0]) - point[1])\n",
    "        mean_sqr_err += math.pow(line(point[0]) - point[1], 2)\n",
    "    \n",
    "print(mean_abs_err/len(points))\n",
    "print(mean_sqr_err/len(points)/2)"
   ]
  },
  {
   "cell_type": "code",
   "execution_count": 2,
   "metadata": {},
   "outputs": [
    {
     "data": {
      "text/plain": [
       "0.863120568566631"
      ]
     },
     "execution_count": 2,
     "metadata": {},
     "output_type": "execute_result"
    }
   ],
   "source": [
    "import math\n",
    "\n",
    "-(4/14)*math.log2(4/14)-(10/14)*math.log2(10/14)"
   ]
  },
  {
   "cell_type": "code",
   "execution_count": 3,
   "metadata": {},
   "outputs": [
    {
     "data": {
      "text/plain": [
       "1.3346791410515946"
      ]
     },
     "execution_count": 3,
     "metadata": {},
     "output_type": "execute_result"
    }
   ],
   "source": [
    "data = [8/13, 3/13, 2/13]\n",
    "res = 0\n",
    "for p in data:\n",
    "    res += p*math.log2(p)\n",
    "    \n",
    "-res"
   ]
  },
  {
   "cell_type": "code",
   "execution_count": 23,
   "metadata": {},
   "outputs": [
    {
     "name": "stdout",
     "output_type": "stream",
     "text": [
      "X: [[0 1]\n",
      " [2 3]\n",
      " [4 5]],\n",
      " y:[[0.63374485]\n",
      " [0.7406458 ]\n",
      " [0.97017792]]\n",
      "[[0 0]\n",
      " [1 0]\n",
      " [2 0]]\n",
      "z:[0 0 2 0 4 0]\n"
     ]
    }
   ],
   "source": [
    "import numpy as np\n",
    "\n",
    "X=np.arange(6).reshape(3, 2)\n",
    "y=np.random.rand(3,1)\n",
    "print(\"X: {},\\n y:{}\".format(X, y))\n",
    "print(np.argwhere(y>0.5))\n",
    "z = X[np.argwhere(y>0.5\n",
    "                 ).flatten(), 0]\n",
    "print(\"z:{}\".format(z))"
   ]
  }
 ],
 "metadata": {
  "kernelspec": {
   "display_name": "Python 3",
   "language": "python",
   "name": "python3"
  },
  "language_info": {
   "codemirror_mode": {
    "name": "ipython",
    "version": 3
   },
   "file_extension": ".py",
   "mimetype": "text/x-python",
   "name": "python",
   "nbconvert_exporter": "python",
   "pygments_lexer": "ipython3",
   "version": "3.7.7"
  }
 },
 "nbformat": 4,
 "nbformat_minor": 4
}
